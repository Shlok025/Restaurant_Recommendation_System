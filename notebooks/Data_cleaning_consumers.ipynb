{
 "cells": [
  {
   "cell_type": "code",
   "execution_count": 42,
   "id": "5673c89a-98bb-46ab-9eeb-8db2cf54b126",
   "metadata": {},
   "outputs": [],
   "source": [
    "import pandas as pd\n",
    "import numpy as np \n",
    "import matplotlib.pyplot as plt\n",
    "import seaborn as sns\n",
    "from scipy import stats"
   ]
  },
  {
   "cell_type": "code",
   "execution_count": 43,
   "id": "006a270e-b0bc-4482-ae8c-70bf41c0bda2",
   "metadata": {},
   "outputs": [
    {
     "data": {
      "text/html": [
       "<div>\n",
       "<style scoped>\n",
       "    .dataframe tbody tr th:only-of-type {\n",
       "        vertical-align: middle;\n",
       "    }\n",
       "\n",
       "    .dataframe tbody tr th {\n",
       "        vertical-align: top;\n",
       "    }\n",
       "\n",
       "    .dataframe thead th {\n",
       "        text-align: right;\n",
       "    }\n",
       "</style>\n",
       "<table border=\"1\" class=\"dataframe\">\n",
       "  <thead>\n",
       "    <tr style=\"text-align: right;\">\n",
       "      <th></th>\n",
       "      <th>Consumer_ID</th>\n",
       "      <th>City</th>\n",
       "      <th>State</th>\n",
       "      <th>Country</th>\n",
       "      <th>Latitude</th>\n",
       "      <th>Longitude</th>\n",
       "      <th>Smoker</th>\n",
       "      <th>Drink_Level</th>\n",
       "      <th>Transportation_Method</th>\n",
       "      <th>Marital_Status</th>\n",
       "      <th>Children</th>\n",
       "      <th>Age</th>\n",
       "      <th>Occupation</th>\n",
       "      <th>Budget</th>\n",
       "    </tr>\n",
       "  </thead>\n",
       "  <tbody>\n",
       "    <tr>\n",
       "      <th>0</th>\n",
       "      <td>U1001</td>\n",
       "      <td>San Luis Potosi</td>\n",
       "      <td>San Luis Potosi</td>\n",
       "      <td>Mexico</td>\n",
       "      <td>22.139997</td>\n",
       "      <td>-100.978803</td>\n",
       "      <td>No</td>\n",
       "      <td>Abstemious</td>\n",
       "      <td>On Foot</td>\n",
       "      <td>Single</td>\n",
       "      <td>Independent</td>\n",
       "      <td>23</td>\n",
       "      <td>Student</td>\n",
       "      <td>Medium</td>\n",
       "    </tr>\n",
       "    <tr>\n",
       "      <th>1</th>\n",
       "      <td>U1002</td>\n",
       "      <td>San Luis Potosi</td>\n",
       "      <td>San Luis Potosi</td>\n",
       "      <td>Mexico</td>\n",
       "      <td>22.150087</td>\n",
       "      <td>-100.983325</td>\n",
       "      <td>No</td>\n",
       "      <td>Abstemious</td>\n",
       "      <td>Public</td>\n",
       "      <td>Single</td>\n",
       "      <td>Independent</td>\n",
       "      <td>22</td>\n",
       "      <td>Student</td>\n",
       "      <td>Low</td>\n",
       "    </tr>\n",
       "    <tr>\n",
       "      <th>2</th>\n",
       "      <td>U1003</td>\n",
       "      <td>San Luis Potosi</td>\n",
       "      <td>San Luis Potosi</td>\n",
       "      <td>Mexico</td>\n",
       "      <td>22.119847</td>\n",
       "      <td>-100.946527</td>\n",
       "      <td>No</td>\n",
       "      <td>Social Drinker</td>\n",
       "      <td>Public</td>\n",
       "      <td>Single</td>\n",
       "      <td>Independent</td>\n",
       "      <td>23</td>\n",
       "      <td>Student</td>\n",
       "      <td>Low</td>\n",
       "    </tr>\n",
       "    <tr>\n",
       "      <th>3</th>\n",
       "      <td>U1004</td>\n",
       "      <td>Cuernavaca</td>\n",
       "      <td>Morelos</td>\n",
       "      <td>Mexico</td>\n",
       "      <td>18.867000</td>\n",
       "      <td>-99.183000</td>\n",
       "      <td>No</td>\n",
       "      <td>Abstemious</td>\n",
       "      <td>Public</td>\n",
       "      <td>Single</td>\n",
       "      <td>Independent</td>\n",
       "      <td>72</td>\n",
       "      <td>Employed</td>\n",
       "      <td>Medium</td>\n",
       "    </tr>\n",
       "    <tr>\n",
       "      <th>4</th>\n",
       "      <td>U1005</td>\n",
       "      <td>San Luis Potosi</td>\n",
       "      <td>San Luis Potosi</td>\n",
       "      <td>Mexico</td>\n",
       "      <td>22.183477</td>\n",
       "      <td>-100.959891</td>\n",
       "      <td>No</td>\n",
       "      <td>Abstemious</td>\n",
       "      <td>Public</td>\n",
       "      <td>Single</td>\n",
       "      <td>Independent</td>\n",
       "      <td>20</td>\n",
       "      <td>Student</td>\n",
       "      <td>Medium</td>\n",
       "    </tr>\n",
       "    <tr>\n",
       "      <th>...</th>\n",
       "      <td>...</td>\n",
       "      <td>...</td>\n",
       "      <td>...</td>\n",
       "      <td>...</td>\n",
       "      <td>...</td>\n",
       "      <td>...</td>\n",
       "      <td>...</td>\n",
       "      <td>...</td>\n",
       "      <td>...</td>\n",
       "      <td>...</td>\n",
       "      <td>...</td>\n",
       "      <td>...</td>\n",
       "      <td>...</td>\n",
       "      <td>...</td>\n",
       "    </tr>\n",
       "    <tr>\n",
       "      <th>133</th>\n",
       "      <td>U1134</td>\n",
       "      <td>San Luis Potosi</td>\n",
       "      <td>San Luis Potosi</td>\n",
       "      <td>Mexico</td>\n",
       "      <td>22.149654</td>\n",
       "      <td>-100.998610</td>\n",
       "      <td>No</td>\n",
       "      <td>Casual Drinker</td>\n",
       "      <td>Public</td>\n",
       "      <td>Single</td>\n",
       "      <td>Independent</td>\n",
       "      <td>21</td>\n",
       "      <td>Student</td>\n",
       "      <td>Medium</td>\n",
       "    </tr>\n",
       "    <tr>\n",
       "      <th>134</th>\n",
       "      <td>U1135</td>\n",
       "      <td>San Luis Potosi</td>\n",
       "      <td>San Luis Potosi</td>\n",
       "      <td>Mexico</td>\n",
       "      <td>22.170396</td>\n",
       "      <td>-100.949936</td>\n",
       "      <td>No</td>\n",
       "      <td>Casual Drinker</td>\n",
       "      <td>On Foot</td>\n",
       "      <td>Single</td>\n",
       "      <td>Kids</td>\n",
       "      <td>24</td>\n",
       "      <td>Student</td>\n",
       "      <td>Low</td>\n",
       "    </tr>\n",
       "    <tr>\n",
       "      <th>135</th>\n",
       "      <td>U1136</td>\n",
       "      <td>San Luis Potosi</td>\n",
       "      <td>San Luis Potosi</td>\n",
       "      <td>Mexico</td>\n",
       "      <td>22.149607</td>\n",
       "      <td>-100.997235</td>\n",
       "      <td>Yes</td>\n",
       "      <td>Social Drinker</td>\n",
       "      <td>Car</td>\n",
       "      <td>Single</td>\n",
       "      <td>Independent</td>\n",
       "      <td>22</td>\n",
       "      <td>Student</td>\n",
       "      <td>Low</td>\n",
       "    </tr>\n",
       "    <tr>\n",
       "      <th>136</th>\n",
       "      <td>U1137</td>\n",
       "      <td>San Luis Potosi</td>\n",
       "      <td>San Luis Potosi</td>\n",
       "      <td>Mexico</td>\n",
       "      <td>22.144803</td>\n",
       "      <td>-100.944623</td>\n",
       "      <td>No</td>\n",
       "      <td>Social Drinker</td>\n",
       "      <td>Public</td>\n",
       "      <td>Single</td>\n",
       "      <td>Independent</td>\n",
       "      <td>23</td>\n",
       "      <td>Student</td>\n",
       "      <td>Low</td>\n",
       "    </tr>\n",
       "    <tr>\n",
       "      <th>137</th>\n",
       "      <td>U1138</td>\n",
       "      <td>San Luis Potosi</td>\n",
       "      <td>San Luis Potosi</td>\n",
       "      <td>Mexico</td>\n",
       "      <td>22.152884</td>\n",
       "      <td>-100.939663</td>\n",
       "      <td>No</td>\n",
       "      <td>Social Drinker</td>\n",
       "      <td>Public</td>\n",
       "      <td>Single</td>\n",
       "      <td>Independent</td>\n",
       "      <td>21</td>\n",
       "      <td>Student</td>\n",
       "      <td>Medium</td>\n",
       "    </tr>\n",
       "  </tbody>\n",
       "</table>\n",
       "<p>138 rows × 14 columns</p>\n",
       "</div>"
      ],
      "text/plain": [
       "    Consumer_ID             City            State Country   Latitude  \\\n",
       "0         U1001  San Luis Potosi  San Luis Potosi  Mexico  22.139997   \n",
       "1         U1002  San Luis Potosi  San Luis Potosi  Mexico  22.150087   \n",
       "2         U1003  San Luis Potosi  San Luis Potosi  Mexico  22.119847   \n",
       "3         U1004       Cuernavaca          Morelos  Mexico  18.867000   \n",
       "4         U1005  San Luis Potosi  San Luis Potosi  Mexico  22.183477   \n",
       "..          ...              ...              ...     ...        ...   \n",
       "133       U1134  San Luis Potosi  San Luis Potosi  Mexico  22.149654   \n",
       "134       U1135  San Luis Potosi  San Luis Potosi  Mexico  22.170396   \n",
       "135       U1136  San Luis Potosi  San Luis Potosi  Mexico  22.149607   \n",
       "136       U1137  San Luis Potosi  San Luis Potosi  Mexico  22.144803   \n",
       "137       U1138  San Luis Potosi  San Luis Potosi  Mexico  22.152884   \n",
       "\n",
       "      Longitude Smoker     Drink_Level Transportation_Method Marital_Status  \\\n",
       "0   -100.978803     No      Abstemious               On Foot         Single   \n",
       "1   -100.983325     No      Abstemious                Public         Single   \n",
       "2   -100.946527     No  Social Drinker                Public         Single   \n",
       "3    -99.183000     No      Abstemious                Public         Single   \n",
       "4   -100.959891     No      Abstemious                Public         Single   \n",
       "..          ...    ...             ...                   ...            ...   \n",
       "133 -100.998610     No  Casual Drinker                Public         Single   \n",
       "134 -100.949936     No  Casual Drinker               On Foot         Single   \n",
       "135 -100.997235    Yes  Social Drinker                   Car         Single   \n",
       "136 -100.944623     No  Social Drinker                Public         Single   \n",
       "137 -100.939663     No  Social Drinker                Public         Single   \n",
       "\n",
       "        Children  Age Occupation  Budget  \n",
       "0    Independent   23    Student  Medium  \n",
       "1    Independent   22    Student     Low  \n",
       "2    Independent   23    Student     Low  \n",
       "3    Independent   72   Employed  Medium  \n",
       "4    Independent   20    Student  Medium  \n",
       "..           ...  ...        ...     ...  \n",
       "133  Independent   21    Student  Medium  \n",
       "134         Kids   24    Student     Low  \n",
       "135  Independent   22    Student     Low  \n",
       "136  Independent   23    Student     Low  \n",
       "137  Independent   21    Student  Medium  \n",
       "\n",
       "[138 rows x 14 columns]"
      ]
     },
     "execution_count": 43,
     "metadata": {},
     "output_type": "execute_result"
    }
   ],
   "source": [
    "df = pd.read_csv('dataset/consumers.csv')\n",
    "df"
   ]
  },
  {
   "cell_type": "code",
   "execution_count": 44,
   "id": "fa006845-ed90-43d8-948a-73ad5987a0f3",
   "metadata": {},
   "outputs": [
    {
     "data": {
      "text/plain": [
       "(138, 14)"
      ]
     },
     "execution_count": 44,
     "metadata": {},
     "output_type": "execute_result"
    }
   ],
   "source": [
    "df.shape"
   ]
  },
  {
   "cell_type": "code",
   "execution_count": 45,
   "id": "54ca0e35-5f92-4959-bcd5-b7c87d5ede32",
   "metadata": {},
   "outputs": [
    {
     "data": {
      "text/html": [
       "<div>\n",
       "<style scoped>\n",
       "    .dataframe tbody tr th:only-of-type {\n",
       "        vertical-align: middle;\n",
       "    }\n",
       "\n",
       "    .dataframe tbody tr th {\n",
       "        vertical-align: top;\n",
       "    }\n",
       "\n",
       "    .dataframe thead th {\n",
       "        text-align: right;\n",
       "    }\n",
       "</style>\n",
       "<table border=\"1\" class=\"dataframe\">\n",
       "  <thead>\n",
       "    <tr style=\"text-align: right;\">\n",
       "      <th></th>\n",
       "      <th>Latitude</th>\n",
       "      <th>Longitude</th>\n",
       "      <th>Age</th>\n",
       "    </tr>\n",
       "  </thead>\n",
       "  <tbody>\n",
       "    <tr>\n",
       "      <th>count</th>\n",
       "      <td>138.000000</td>\n",
       "      <td>138.000000</td>\n",
       "      <td>138.000000</td>\n",
       "    </tr>\n",
       "    <tr>\n",
       "      <th>mean</th>\n",
       "      <td>21.810389</td>\n",
       "      <td>-100.291857</td>\n",
       "      <td>27.297101</td>\n",
       "    </tr>\n",
       "    <tr>\n",
       "      <th>std</th>\n",
       "      <td>1.552529</td>\n",
       "      <td>0.869916</td>\n",
       "      <td>14.655364</td>\n",
       "    </tr>\n",
       "    <tr>\n",
       "      <th>min</th>\n",
       "      <td>18.813348</td>\n",
       "      <td>-101.054680</td>\n",
       "      <td>18.000000</td>\n",
       "    </tr>\n",
       "    <tr>\n",
       "      <th>25%</th>\n",
       "      <td>22.126030</td>\n",
       "      <td>-100.983000</td>\n",
       "      <td>21.000000</td>\n",
       "    </tr>\n",
       "    <tr>\n",
       "      <th>50%</th>\n",
       "      <td>22.150497</td>\n",
       "      <td>-100.937788</td>\n",
       "      <td>23.000000</td>\n",
       "    </tr>\n",
       "    <tr>\n",
       "      <th>75%</th>\n",
       "      <td>22.186642</td>\n",
       "      <td>-99.183251</td>\n",
       "      <td>25.000000</td>\n",
       "    </tr>\n",
       "    <tr>\n",
       "      <th>max</th>\n",
       "      <td>23.771030</td>\n",
       "      <td>-99.067106</td>\n",
       "      <td>82.000000</td>\n",
       "    </tr>\n",
       "  </tbody>\n",
       "</table>\n",
       "</div>"
      ],
      "text/plain": [
       "         Latitude   Longitude         Age\n",
       "count  138.000000  138.000000  138.000000\n",
       "mean    21.810389 -100.291857   27.297101\n",
       "std      1.552529    0.869916   14.655364\n",
       "min     18.813348 -101.054680   18.000000\n",
       "25%     22.126030 -100.983000   21.000000\n",
       "50%     22.150497 -100.937788   23.000000\n",
       "75%     22.186642  -99.183251   25.000000\n",
       "max     23.771030  -99.067106   82.000000"
      ]
     },
     "execution_count": 45,
     "metadata": {},
     "output_type": "execute_result"
    }
   ],
   "source": [
    "df.describe()"
   ]
  },
  {
   "cell_type": "code",
   "execution_count": 46,
   "id": "5b94f78c-8b65-4db0-97a4-96602f784c5d",
   "metadata": {},
   "outputs": [
    {
     "data": {
      "text/plain": [
       "Index(['Consumer_ID', 'City', 'State', 'Country', 'Latitude', 'Longitude',\n",
       "       'Smoker', 'Drink_Level', 'Transportation_Method', 'Marital_Status',\n",
       "       'Children', 'Age', 'Occupation', 'Budget'],\n",
       "      dtype='object')"
      ]
     },
     "execution_count": 46,
     "metadata": {},
     "output_type": "execute_result"
    }
   ],
   "source": [
    "df.columns"
   ]
  },
  {
   "cell_type": "code",
   "execution_count": 47,
   "id": "2e00ba3e-42ee-4626-bac9-4f59fd097efe",
   "metadata": {},
   "outputs": [
    {
     "data": {
      "text/plain": [
       "Consumer_ID               0\n",
       "City                      0\n",
       "State                     0\n",
       "Country                   0\n",
       "Latitude                  0\n",
       "Longitude                 0\n",
       "Smoker                    3\n",
       "Drink_Level               0\n",
       "Transportation_Method     7\n",
       "Marital_Status            4\n",
       "Children                 11\n",
       "Age                       0\n",
       "Occupation                7\n",
       "Budget                    7\n",
       "dtype: int64"
      ]
     },
     "execution_count": 47,
     "metadata": {},
     "output_type": "execute_result"
    }
   ],
   "source": [
    "df.isna().sum()"
   ]
  },
  {
   "cell_type": "code",
   "execution_count": 48,
   "id": "06871fde-15e4-4dc7-8d60-be119e450dec",
   "metadata": {},
   "outputs": [
    {
     "data": {
      "text/plain": [
       "array(['No', 'No', 'No', 'No', 'No', 'Yes', 'No', 'No', 'No', 'No', 'No',\n",
       "       'No', 'No', 'No', 'Yes', 'No', 'No', 'Yes', 'No', 'No', 'No', 'No',\n",
       "       'No', nan, 'No', 'No', 'Yes', 'No', 'Yes', 'No', 'No', 'No', 'No',\n",
       "       'No', 'Yes', 'No', 'No', 'Yes', 'No', 'No', 'No', 'No', 'No',\n",
       "       'Yes', 'No', 'No', 'No', 'Yes', 'No', 'No', 'No', 'Yes', 'No',\n",
       "       'No', 'No', 'No', 'Yes', 'No', 'No', 'No', 'No', 'No', 'No', 'No',\n",
       "       'No', 'No', 'No', 'No', 'No', 'No', 'No', 'No', 'No', 'Yes', 'No',\n",
       "       'No', 'No', 'Yes', 'No', 'Yes', 'No', 'Yes', 'No', 'Yes', 'No',\n",
       "       'No', 'No', 'No', 'Yes', 'No', 'No', 'No', 'Yes', 'No', 'No', 'No',\n",
       "       'No', 'No', 'Yes', 'No', 'No', 'No', 'No', 'Yes', 'No', 'No', 'No',\n",
       "       'No', 'No', 'No', 'Yes', 'Yes', 'No', 'No', 'Yes', 'No', 'No',\n",
       "       'Yes', 'No', 'No', 'No', nan, 'No', 'No', 'No', 'No', 'No', 'No',\n",
       "       'No', nan, 'Yes', 'No', 'No', 'No', 'No', 'Yes', 'No', 'No'],\n",
       "      dtype=object)"
      ]
     },
     "execution_count": 48,
     "metadata": {},
     "output_type": "execute_result"
    }
   ],
   "source": [
    "df.Smoker.values"
   ]
  },
  {
   "cell_type": "code",
   "execution_count": 49,
   "id": "0356de1f-5bf4-4f8c-b0a6-106f781344fd",
   "metadata": {},
   "outputs": [
    {
     "data": {
      "text/plain": [
       "count     135\n",
       "unique      2\n",
       "top        No\n",
       "freq      109\n",
       "Name: Smoker, dtype: object"
      ]
     },
     "execution_count": 49,
     "metadata": {},
     "output_type": "execute_result"
    }
   ],
   "source": [
    "df.Smoker.describe()"
   ]
  },
  {
   "cell_type": "code",
   "execution_count": 50,
   "id": "635fd502-bf59-4273-9c1d-8700b7561bb9",
   "metadata": {},
   "outputs": [],
   "source": [
    "df['Smoker'] = df['Smoker'].replace(np.nan , 'No')"
   ]
  },
  {
   "cell_type": "code",
   "execution_count": 51,
   "id": "9b76d499-322d-40d8-86cb-b593edb2bdee",
   "metadata": {},
   "outputs": [
    {
     "data": {
      "text/plain": [
       "Consumer_ID               0\n",
       "City                      0\n",
       "State                     0\n",
       "Country                   0\n",
       "Latitude                  0\n",
       "Longitude                 0\n",
       "Smoker                    0\n",
       "Drink_Level               0\n",
       "Transportation_Method     7\n",
       "Marital_Status            4\n",
       "Children                 11\n",
       "Age                       0\n",
       "Occupation                7\n",
       "Budget                    7\n",
       "dtype: int64"
      ]
     },
     "execution_count": 51,
     "metadata": {},
     "output_type": "execute_result"
    }
   ],
   "source": [
    "df.isna().sum()"
   ]
  },
  {
   "cell_type": "code",
   "execution_count": 52,
   "id": "0702d93b-1b06-47bb-af85-e8684bbf11e9",
   "metadata": {},
   "outputs": [
    {
     "data": {
      "text/plain": [
       "array(['On Foot', 'Public', 'Public', 'Public', 'Public', 'Car', 'Public',\n",
       "       'Public', 'On Foot', 'Car', 'Public', 'Public', 'Public', 'Public',\n",
       "       'Public', 'On Foot', 'Public', 'Public', 'Public', 'Public', 'Car',\n",
       "       'Car', 'Car', nan, 'Public', 'Public', 'Public', 'Public',\n",
       "       'Public', 'On Foot', nan, 'Public', 'On Foot', 'Public', 'Car',\n",
       "       'Public', 'Public', 'Public', nan, 'Public', 'On Foot', 'Car',\n",
       "       'Public', 'Car', 'Car', 'Car', 'Public', 'Public', 'Public', 'Car',\n",
       "       'Public', 'On Foot', 'Public', 'Public', 'Car', 'On Foot',\n",
       "       'Public', 'Public', 'On Foot', 'Public', 'Car', 'Car', 'Public',\n",
       "       'Public', 'Public', 'Public', 'Public', 'Public', 'Public',\n",
       "       'Public', 'Car', 'Public', 'Car', 'Car', 'Car', 'Public', 'Public',\n",
       "       'Car', 'Public', 'Car', 'Public', 'Public', nan, 'Public', 'Car',\n",
       "       'Car', 'Public', 'On Foot', 'Public', 'Car', 'Car', 'Public',\n",
       "       'Car', 'Public', 'Public', 'Public', 'Public', 'Public', 'Public',\n",
       "       'Public', 'Car', 'On Foot', 'Public', 'Car', 'Public', 'Car',\n",
       "       'Car', 'Public', 'Public', 'Car', 'Car', 'Car', 'Public',\n",
       "       'On Foot', 'Public', 'Public', 'Public', 'Public', 'Public',\n",
       "       'Public', 'Public', nan, nan, 'Public', 'Public', 'On Foot',\n",
       "       'Public', 'Public', 'Public', nan, 'Car', 'Public', 'Car',\n",
       "       'Public', 'On Foot', 'Car', 'Public', 'Public'], dtype=object)"
      ]
     },
     "execution_count": 52,
     "metadata": {},
     "output_type": "execute_result"
    }
   ],
   "source": [
    "df.Transportation_Method.values"
   ]
  },
  {
   "cell_type": "code",
   "execution_count": 53,
   "id": "96e5d524-f661-4a97-aef5-416c14cbc3f5",
   "metadata": {},
   "outputs": [
    {
     "data": {
      "text/plain": [
       "array(['On Foot', 'Public', 'Car', nan], dtype=object)"
      ]
     },
     "execution_count": 53,
     "metadata": {},
     "output_type": "execute_result"
    }
   ],
   "source": [
    "df.Transportation_Method.unique()"
   ]
  },
  {
   "cell_type": "code",
   "execution_count": 54,
   "id": "e14893b5-1cd7-4754-b2b8-e06df9d300fe",
   "metadata": {},
   "outputs": [
    {
     "data": {
      "text/plain": [
       "count        131\n",
       "unique         3\n",
       "top       Public\n",
       "freq          82\n",
       "Name: Transportation_Method, dtype: object"
      ]
     },
     "execution_count": 54,
     "metadata": {},
     "output_type": "execute_result"
    }
   ],
   "source": [
    "df.Transportation_Method.describe()"
   ]
  },
  {
   "cell_type": "code",
   "execution_count": 55,
   "id": "b61ad09a-bacf-4faf-a334-b9d552a64df5",
   "metadata": {},
   "outputs": [],
   "source": [
    "df['Transportation_Method'] = df['Transportation_Method'].replace(np.nan , 'Public')"
   ]
  },
  {
   "cell_type": "code",
   "execution_count": 56,
   "id": "994ec02d-f6b9-4c1a-9aa3-34b3e64dfe82",
   "metadata": {},
   "outputs": [
    {
     "data": {
      "text/plain": [
       "Consumer_ID               0\n",
       "City                      0\n",
       "State                     0\n",
       "Country                   0\n",
       "Latitude                  0\n",
       "Longitude                 0\n",
       "Smoker                    0\n",
       "Drink_Level               0\n",
       "Transportation_Method     0\n",
       "Marital_Status            4\n",
       "Children                 11\n",
       "Age                       0\n",
       "Occupation                7\n",
       "Budget                    7\n",
       "dtype: int64"
      ]
     },
     "execution_count": 56,
     "metadata": {},
     "output_type": "execute_result"
    }
   ],
   "source": [
    "df.isna().sum()"
   ]
  },
  {
   "cell_type": "code",
   "execution_count": 57,
   "id": "b0949106-13f1-4d97-8a59-f400a50da14a",
   "metadata": {},
   "outputs": [
    {
     "data": {
      "text/plain": [
       "count        134\n",
       "unique         2\n",
       "top       Single\n",
       "freq         124\n",
       "Name: Marital_Status, dtype: object"
      ]
     },
     "execution_count": 57,
     "metadata": {},
     "output_type": "execute_result"
    }
   ],
   "source": [
    "df.Marital_Status.describe()"
   ]
  },
  {
   "cell_type": "code",
   "execution_count": 58,
   "id": "8546f97d-27c0-44f0-9b66-a60b1bdfeaad",
   "metadata": {},
   "outputs": [],
   "source": [
    "df['Marital_Status'] = df['Marital_Status'].replace(np.nan , 'Single')"
   ]
  },
  {
   "cell_type": "code",
   "execution_count": 59,
   "id": "4c92c5c1-d44b-4854-9c7b-da0d221eaafe",
   "metadata": {},
   "outputs": [
    {
     "data": {
      "text/plain": [
       "Consumer_ID               0\n",
       "City                      0\n",
       "State                     0\n",
       "Country                   0\n",
       "Latitude                  0\n",
       "Longitude                 0\n",
       "Smoker                    0\n",
       "Drink_Level               0\n",
       "Transportation_Method     0\n",
       "Marital_Status            0\n",
       "Children                 11\n",
       "Age                       0\n",
       "Occupation                7\n",
       "Budget                    7\n",
       "dtype: int64"
      ]
     },
     "execution_count": 59,
     "metadata": {},
     "output_type": "execute_result"
    }
   ],
   "source": [
    "df.isna().sum()"
   ]
  },
  {
   "cell_type": "code",
   "execution_count": 60,
   "id": "7cb42d8d-eb9f-4539-bc39-f58844445eda",
   "metadata": {},
   "outputs": [
    {
     "data": {
      "text/plain": [
       "count             127\n",
       "unique              3\n",
       "top       Independent\n",
       "freq              113\n",
       "Name: Children, dtype: object"
      ]
     },
     "execution_count": 60,
     "metadata": {},
     "output_type": "execute_result"
    }
   ],
   "source": [
    "df.Children.describe()"
   ]
  },
  {
   "cell_type": "code",
   "execution_count": 61,
   "id": "1dc95396-5c03-41ca-9142-d2b5c0ca0107",
   "metadata": {},
   "outputs": [
    {
     "data": {
      "text/plain": [
       "array(['Independent', 'Kids', nan, 'Dependent'], dtype=object)"
      ]
     },
     "execution_count": 61,
     "metadata": {},
     "output_type": "execute_result"
    }
   ],
   "source": [
    "df.Children.unique()"
   ]
  },
  {
   "cell_type": "code",
   "execution_count": 62,
   "id": "18f9b1bf-0a1a-41df-9f67-3fba84abd795",
   "metadata": {},
   "outputs": [],
   "source": [
    "df['Children'] = df['Children'].replace(np.nan , 'Independent')"
   ]
  },
  {
   "cell_type": "code",
   "execution_count": 63,
   "id": "e9f1c951-4f6c-47f6-9ee8-f1c58efa59fd",
   "metadata": {},
   "outputs": [
    {
     "data": {
      "text/plain": [
       "Consumer_ID              0\n",
       "City                     0\n",
       "State                    0\n",
       "Country                  0\n",
       "Latitude                 0\n",
       "Longitude                0\n",
       "Smoker                   0\n",
       "Drink_Level              0\n",
       "Transportation_Method    0\n",
       "Marital_Status           0\n",
       "Children                 0\n",
       "Age                      0\n",
       "Occupation               7\n",
       "Budget                   7\n",
       "dtype: int64"
      ]
     },
     "execution_count": 63,
     "metadata": {},
     "output_type": "execute_result"
    }
   ],
   "source": [
    "df.isna().sum()"
   ]
  },
  {
   "cell_type": "code",
   "execution_count": 66,
   "id": "ec1683ce-8168-454a-8926-5a3946f26226",
   "metadata": {},
   "outputs": [
    {
     "data": {
      "text/plain": [
       "count         131\n",
       "unique          3\n",
       "top       Student\n",
       "freq          113\n",
       "Name: Occupation, dtype: object"
      ]
     },
     "execution_count": 66,
     "metadata": {},
     "output_type": "execute_result"
    }
   ],
   "source": [
    "df.Occupation.describe()"
   ]
  },
  {
   "cell_type": "code",
   "execution_count": 69,
   "id": "c3557310-1f95-4d98-b984-0f54e53cdf29",
   "metadata": {},
   "outputs": [
    {
     "data": {
      "text/plain": [
       "array(['Student', 'Employed', nan, 'Unemployed'], dtype=object)"
      ]
     },
     "execution_count": 69,
     "metadata": {},
     "output_type": "execute_result"
    }
   ],
   "source": [
    "df.Occupation.unique()"
   ]
  },
  {
   "cell_type": "code",
   "execution_count": 70,
   "id": "7aa7c043-73d1-439d-9f3f-7763e41cc446",
   "metadata": {},
   "outputs": [],
   "source": [
    "df['Occupation'] = df['Occupation'].replace(np.nan , 'Student')"
   ]
  },
  {
   "cell_type": "code",
   "execution_count": 71,
   "id": "6b7a3673-bd3b-43ef-9659-2b543d09470f",
   "metadata": {},
   "outputs": [
    {
     "data": {
      "text/plain": [
       "count        131\n",
       "unique         3\n",
       "top       Medium\n",
       "freq          91\n",
       "Name: Budget, dtype: object"
      ]
     },
     "execution_count": 71,
     "metadata": {},
     "output_type": "execute_result"
    }
   ],
   "source": [
    "df.Budget.describe()"
   ]
  },
  {
   "cell_type": "code",
   "execution_count": 72,
   "id": "00c5c905-1134-4215-84c3-d5726581b661",
   "metadata": {},
   "outputs": [
    {
     "data": {
      "text/plain": [
       "array(['Medium', 'Low', nan, 'High'], dtype=object)"
      ]
     },
     "execution_count": 72,
     "metadata": {},
     "output_type": "execute_result"
    }
   ],
   "source": [
    "df.Budget.unique()"
   ]
  },
  {
   "cell_type": "code",
   "execution_count": 73,
   "id": "5e832cd7-56bd-49c4-8a67-59d6d0c8c548",
   "metadata": {},
   "outputs": [],
   "source": [
    "df['Budget'] = df['Budget'].replace(np.nan , 'Medium')"
   ]
  },
  {
   "cell_type": "code",
   "execution_count": 75,
   "id": "e4176dc4-d396-4627-9fa8-6d2dd46944ea",
   "metadata": {},
   "outputs": [
    {
     "data": {
      "text/plain": [
       "Consumer_ID              0\n",
       "City                     0\n",
       "State                    0\n",
       "Country                  0\n",
       "Latitude                 0\n",
       "Longitude                0\n",
       "Smoker                   0\n",
       "Drink_Level              0\n",
       "Transportation_Method    0\n",
       "Marital_Status           0\n",
       "Children                 0\n",
       "Age                      0\n",
       "Occupation               0\n",
       "Budget                   0\n",
       "dtype: int64"
      ]
     },
     "execution_count": 75,
     "metadata": {},
     "output_type": "execute_result"
    }
   ],
   "source": [
    "df.isna().sum()"
   ]
  },
  {
   "cell_type": "code",
   "execution_count": 76,
   "id": "cd40ddc4-bee9-4e4f-aa80-f7da054acb24",
   "metadata": {},
   "outputs": [],
   "source": [
    "df.to_csv('cleaned_consumers.csv', index=False)"
   ]
  },
  {
   "cell_type": "code",
   "execution_count": 82,
   "id": "e902b189-e86f-4493-bbd4-3ce3f0005351",
   "metadata": {},
   "outputs": [
    {
     "data": {
      "text/plain": [
       "<Axes: xlabel='Age', ylabel='Count'>"
      ]
     },
     "execution_count": 82,
     "metadata": {},
     "output_type": "execute_result"
    },
    {
     "data": {
      "image/png": "[encoded data removed]",
      "text/plain": [
       "<Figure size 640x480 with 1 Axes>"
      ]
     },
     "metadata": {},
     "output_type": "display_data"
    }
   ],
   "source": [
    "sns.histplot(data=df[['Age']], x='Age', kde = True , color = 'green')\n"
   ]
  },
  {
   "cell_type": "code",
   "execution_count": 90,
   "id": "25fb0571-d7ab-464a-8c8e-855eb76de1a8",
   "metadata": {},
   "outputs": [
    {
     "data": {
      "text/plain": [
       "<Axes: xlabel='Smoker', ylabel='Count'>"
      ]
     },
     "execution_count": 90,
     "metadata": {},
     "output_type": "execute_result"
    },
    {
     "data": {
      "image/png": "[encoded data removed]",
      "text/plain": [
       "<Figure size 640x480 with 1 Axes>"
      ]
     },
     "metadata": {},
     "output_type": "display_data"
    }
   ],
   "source": [
    "sns.histplot(data=df[['Smoker']], x='Smoker')"
   ]
  },
  {
   "cell_type": "code",
   "execution_count": null,
   "id": "55585f3f-36e7-4da2-acfe-0cb79c532a35",
   "metadata": {},
   "outputs": [],
   "source": []
  }
 ],
 "metadata": {
  "kernelspec": {
   "display_name": "Python 3 (ipykernel)",
   "language": "python",
   "name": "python3"
  },
  "language_info": {
   "codemirror_mode": {
    "name": "ipython",
    "version": 3
   },
   "file_extension": ".py",
   "mimetype": "text/x-python",
   "name": "python",
   "nbconvert_exporter": "python",
   "pygments_lexer": "ipython3",
   "version": "3.11.4"
  }
 },
 "nbformat": 4,
 "nbformat_minor": 5
}
